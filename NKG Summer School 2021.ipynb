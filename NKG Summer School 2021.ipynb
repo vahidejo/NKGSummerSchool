{
 "cells": [
  {
   "cell_type": "markdown",
   "id": "7d238d9e-0181-40b3-95e9-b294397a9b73",
   "metadata": {},
   "source": [
    "# NKG Summer School 2021\n",
    "Lecture notes"
   ]
  },
  {
   "cell_type": "markdown",
   "id": "91c77dcb-4d09-41e4-b4ec-272460b7eaab",
   "metadata": {},
   "source": [
    "### Your Turn (slide 17)"
   ]
  },
  {
   "cell_type": "code",
   "execution_count": 1,
   "id": "53afc779-2f4a-434b-8d97-729d4c74ed87",
   "metadata": {},
   "outputs": [
    {
     "data": {
      "text/latex": [
       "$\\displaystyle \\left[\\begin{matrix}\\frac{1}{s} & \\frac{1}{s^{2}}\\\\0 & \\frac{1}{s}\\end{matrix}\\right]$"
      ],
      "text/plain": [
       "Matrix([\n",
       "[1/s, s**(-2)],\n",
       "[  0,     1/s]])"
      ]
     },
     "metadata": {},
     "output_type": "display_data"
    },
    {
     "data": {
      "text/latex": [
       "$\\displaystyle \\left[\\begin{matrix}1 & t\\\\0 & 1\\end{matrix}\\right]$"
      ],
      "text/plain": [
       "Matrix([\n",
       "[1, t],\n",
       "[0, 1]])"
      ]
     },
     "metadata": {},
     "output_type": "display_data"
    }
   ],
   "source": [
    "from sympy import Matrix, eye, symbols, inverse_laplace_transform\n",
    "\n",
    "# Define symbols\n",
    "s, t, phi = symbols('s t phi', positive=True)\n",
    "\n",
    "# Dynamic matrix\n",
    "F = Matrix([[0, 1],\n",
    "            [0, 0]])\n",
    "\n",
    "# Identity matrix\n",
    "I = eye(2)\n",
    "\n",
    "S = (s*I-F).inv()\n",
    "display(S)\n",
    "\n",
    "# Transition matrix\n",
    "phi = inverse_laplace_transform(S, s, t)\n",
    "display(phi)"
   ]
  },
  {
   "cell_type": "markdown",
   "id": "fbceadc0-4203-4605-a069-6b8d35a6346f",
   "metadata": {
    "tags": []
   },
   "source": [
    "### Your Turn (slide 21)"
   ]
  },
  {
   "cell_type": "code",
   "execution_count": 2,
   "id": "2f918293-5706-4834-8725-b8028dabdff2",
   "metadata": {},
   "outputs": [
    {
     "name": "stdout",
     "output_type": "stream",
     "text": [
      "[[ 1.  5.]\n",
      " [-0.  1.]]\n",
      "[[12.5   3.75]\n",
      " [ 3.75  1.5 ]]\n"
     ]
    }
   ],
   "source": [
    "from numpy import array, sqrt\n",
    "from vanloan import numeval\n",
    "\n",
    "# System parameters\n",
    "dt = 5    # [seconds]\n",
    "q = 0.3   # [meter^2/second]\n",
    "\n",
    "\n",
    "# Dynamic matrix\n",
    "F = array([[0, 1],\n",
    "           [0, 0]])\n",
    "\n",
    "# White noise coefficients\n",
    "G = array([[0],\n",
    "           [sqrt(q)]])\n",
    "\n",
    "# Van Loan numerical evaluation\n",
    "phi, Q = numeval(F, G, dt)\n",
    "print(phi)\n",
    "print(Q)"
   ]
  },
  {
   "cell_type": "markdown",
   "id": "06a7f16f-4909-406f-8c30-0f1a2f39edfd",
   "metadata": {},
   "source": [
    "### Your Turn (slide 24)"
   ]
  },
  {
   "cell_type": "code",
   "execution_count": 3,
   "id": "578660e4-d139-4e66-9734-f9bea5544aaa",
   "metadata": {},
   "outputs": [
    {
     "data": {
      "text/latex": [
       "$\\displaystyle \\frac{- y_{0} + y_{1}}{\\left(x_{0} - x_{1}\\right)^{2} + \\left(y_{0} - y_{1}\\right)^{2}}$"
      ],
      "text/plain": [
       "(-y0 + y1)/((x0 - x1)**2 + (y0 - y1)**2)"
      ]
     },
     "metadata": {},
     "output_type": "display_data"
    },
    {
     "data": {
      "text/latex": [
       "$\\displaystyle \\frac{x_{0} - x_{1}}{\\left(x_{0} - x_{1}\\right)^{2} + \\left(y_{0} - y_{1}\\right)^{2}}$"
      ],
      "text/plain": [
       "(x0 - x1)/((x0 - x1)**2 + (y0 - y1)**2)"
      ]
     },
     "metadata": {},
     "output_type": "display_data"
    }
   ],
   "source": [
    "from sympy import Matrix, symbols, atan, diff, simplify, sqrt\n",
    "\n",
    "x0, y0, x1, y1 = symbols('x0 y0 x1 y1')\n",
    "\n",
    "alpha = atan((y1 - y0)/(x1 - x0))\n",
    "s = sqrt((x1 - x0)**2 + (y1 - y0)**2)\n",
    "\n",
    "# Heading\n",
    "a1 = diff(alpha, x0)\n",
    "a2 = diff(alpha, y0)\n",
    "display(simplify(a1))\n",
    "display(simplify(a2))"
   ]
  },
  {
   "cell_type": "code",
   "execution_count": 4,
   "id": "95c3109a-acec-4cdd-a9f0-1750127f867b",
   "metadata": {},
   "outputs": [
    {
     "data": {
      "text/latex": [
       "$\\displaystyle \\frac{x_{0} - x_{1}}{\\sqrt{\\left(x_{0} - x_{1}\\right)^{2} + \\left(y_{0} - y_{1}\\right)^{2}}}$"
      ],
      "text/plain": [
       "(x0 - x1)/sqrt((x0 - x1)**2 + (y0 - y1)**2)"
      ]
     },
     "metadata": {},
     "output_type": "display_data"
    },
    {
     "data": {
      "text/latex": [
       "$\\displaystyle \\frac{y_{0} - y_{1}}{\\sqrt{\\left(x_{0} - x_{1}\\right)^{2} + \\left(y_{0} - y_{1}\\right)^{2}}}$"
      ],
      "text/plain": [
       "(y0 - y1)/sqrt((x0 - x1)**2 + (y0 - y1)**2)"
      ]
     },
     "metadata": {},
     "output_type": "display_data"
    }
   ],
   "source": [
    "# Distance\n",
    "b1 = diff(s, x0)\n",
    "b2 = diff(s, y0)\n",
    "display(simplify(b1))\n",
    "display(simplify(b2))"
   ]
  },
  {
   "cell_type": "markdown",
   "id": "8616ee58-74e4-4634-9e84-9682b51b4e79",
   "metadata": {},
   "source": [
    "### Your Turn (slide 33)"
   ]
  },
  {
   "cell_type": "code",
   "execution_count": 5,
   "id": "a8500404-ad80-4b81-9685-603baa33f3c7",
   "metadata": {},
   "outputs": [
    {
     "data": {
      "text/latex": [
       "$\\displaystyle \\frac{16}{s^{4} + 64}$"
      ],
      "text/plain": [
       "16/(s**4 + 64)"
      ]
     },
     "metadata": {},
     "output_type": "display_data"
    },
    {
     "data": {
      "text/latex": [
       "$\\displaystyle \\left\\{-2 - 2 i, -2 + 2 i, 2 - 2 i, 2 + 2 i\\right\\}$"
      ],
      "text/plain": [
       "FiniteSet(-2 - 2*I, -2 + 2*I, 2 - 2*I, 2 + 2*I)"
      ]
     },
     "metadata": {},
     "output_type": "display_data"
    },
    {
     "data": {
      "text/latex": [
       "$\\displaystyle \\frac{16}{\\left(s^{2} - 4 s + 8\\right) \\left(s^{2} + 4 s + 8\\right)}$"
      ],
      "text/plain": [
       "16/((s**2 - 4*s + 8)*(s**2 + 4*s + 8))"
      ]
     },
     "metadata": {},
     "output_type": "display_data"
    }
   ],
   "source": [
    "from sympy import symbols, solveset, factor\n",
    "\n",
    "s = symbols('s')\n",
    "\n",
    "S = 16/(s**4 + 64)\n",
    "display(S)\n",
    "\n",
    "display(solveset(s**4 + 64, s))\n",
    "\n",
    "Sf = factor(S)\n",
    "display(Sf)"
   ]
  },
  {
   "cell_type": "code",
   "execution_count": 6,
   "id": "869a01ca-42d2-447c-b90c-555c3301dcaa",
   "metadata": {},
   "outputs": [
    {
     "data": {
      "text/latex": [
       "$\\displaystyle \\left\\{-2 - 2 i, -2 + 2 i\\right\\}$"
      ],
      "text/plain": [
       "FiniteSet(-2 - 2*I, -2 + 2*I)"
      ]
     },
     "execution_count": 6,
     "metadata": {},
     "output_type": "execute_result"
    }
   ],
   "source": [
    "solveset(s**2 + 4*s + 8)"
   ]
  },
  {
   "cell_type": "markdown",
   "id": "3ef4db96-79da-479d-b2fe-61a125150765",
   "metadata": {},
   "source": [
    "$$\n",
    "\\begin{bmatrix}\n",
    "  \\dot{x}\\\\\n",
    "  \\ddot{x}\\\\\n",
    "\\end{bmatrix} = \n",
    "\\begin{bmatrix}\n",
    "  0 &1\\\\\n",
    "  -8 &-4\\\\\n",
    "\\end{bmatrix}\n",
    "\\begin{bmatrix}\n",
    "  x\\\\\n",
    "  \\dot{x}\\\\\n",
    "\\end{bmatrix} + \n",
    "\\begin{bmatrix}\n",
    "  0\\\\\n",
    "  4\\\\\n",
    "\\end{bmatrix} u\n",
    "$$"
   ]
  }
 ],
 "metadata": {
  "kernelspec": {
   "display_name": "Python 3",
   "language": "python",
   "name": "python3"
  },
  "language_info": {
   "codemirror_mode": {
    "name": "ipython",
    "version": 3
   },
   "file_extension": ".py",
   "mimetype": "text/x-python",
   "name": "python",
   "nbconvert_exporter": "python",
   "pygments_lexer": "ipython3",
   "version": "3.9.1"
  }
 },
 "nbformat": 4,
 "nbformat_minor": 5
}
